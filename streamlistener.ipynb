{
 "cells": [
  {
   "cell_type": "code",
   "execution_count": 1,
   "id": "a827231e",
   "metadata": {
    "id": "c5d34a56"
   },
   "outputs": [],
   "source": [
    "from pyspark.sql import SparkSession\n",
    "from pyspark.sql.avro.functions import from_avro, to_avro\n",
    "from pyspark.sql.functions import *\n",
    "from pyspark.sql.types import *\n",
    "import json\n",
    "from pyspark.ml import Pipeline,PipelineModel"
   ]
  },
  {
   "cell_type": "code",
   "execution_count": 2,
   "id": "3ff20465",
   "metadata": {
    "id": "3a93067f"
   },
   "outputs": [
    {
     "name": "stderr",
     "output_type": "stream",
     "text": [
      "Ivy Default Cache set to: /root/.ivy2/cache\n",
      "The jars for the packages stored in: /root/.ivy2/jars\n",
      ":: loading settings :: url = jar:file:/usr/local/lib/python3.7/dist-packages/pyspark/jars/ivy-2.4.0.jar!/org/apache/ivy/core/settings/ivysettings.xml\n",
      "org.apache.spark#spark-sql-kafka-0-10_2.12 added as a dependency\n",
      "org.apache.spark#spark-avro_2.12 added as a dependency\n",
      "org.mongodb.spark#mongo-spark-connector_2.12 added as a dependency\n",
      ":: resolving dependencies :: org.apache.spark#spark-submit-parent-255f47db-8661-43e7-8c4b-210f2da8431f;1.0\n",
      "\tconfs: [default]\n",
      "\tfound org.apache.spark#spark-sql-kafka-0-10_2.12;3.0.0 in central\n",
      "\tfound org.apache.spark#spark-token-provider-kafka-0-10_2.12;3.0.0 in central\n",
      "\tfound org.apache.kafka#kafka-clients;2.4.1 in central\n",
      "\tfound com.github.luben#zstd-jni;1.4.4-3 in central\n",
      "\tfound org.lz4#lz4-java;1.7.1 in central\n",
      "\tfound org.xerial.snappy#snappy-java;1.1.7.5 in central\n",
      "\tfound org.slf4j#slf4j-api;1.7.30 in central\n",
      "\tfound org.spark-project.spark#unused;1.0.0 in central\n",
      "\tfound org.apache.commons#commons-pool2;2.6.2 in central\n",
      "\tfound org.apache.spark#spark-avro_2.12;3.0.0 in central\n",
      "\tfound org.mongodb.spark#mongo-spark-connector_2.12;3.0.0 in central\n",
      "\tfound org.mongodb#mongodb-driver-sync;4.0.5 in central\n",
      "\tfound org.mongodb#bson;4.0.5 in central\n",
      "\tfound org.mongodb#mongodb-driver-core;4.0.5 in central\n",
      ":: resolution report :: resolve 458ms :: artifacts dl 10ms\n",
      "\t:: modules in use:\n",
      "\tcom.github.luben#zstd-jni;1.4.4-3 from central in [default]\n",
      "\torg.apache.commons#commons-pool2;2.6.2 from central in [default]\n",
      "\torg.apache.kafka#kafka-clients;2.4.1 from central in [default]\n",
      "\torg.apache.spark#spark-avro_2.12;3.0.0 from central in [default]\n",
      "\torg.apache.spark#spark-sql-kafka-0-10_2.12;3.0.0 from central in [default]\n",
      "\torg.apache.spark#spark-token-provider-kafka-0-10_2.12;3.0.0 from central in [default]\n",
      "\torg.lz4#lz4-java;1.7.1 from central in [default]\n",
      "\torg.mongodb#bson;4.0.5 from central in [default]\n",
      "\torg.mongodb#mongodb-driver-core;4.0.5 from central in [default]\n",
      "\torg.mongodb#mongodb-driver-sync;4.0.5 from central in [default]\n",
      "\torg.mongodb.spark#mongo-spark-connector_2.12;3.0.0 from central in [default]\n",
      "\torg.slf4j#slf4j-api;1.7.30 from central in [default]\n",
      "\torg.spark-project.spark#unused;1.0.0 from central in [default]\n",
      "\torg.xerial.snappy#snappy-java;1.1.7.5 from central in [default]\n",
      "\t---------------------------------------------------------------------\n",
      "\t|                  |            modules            ||   artifacts   |\n",
      "\t|       conf       | number| search|dwnlded|evicted|| number|dwnlded|\n",
      "\t---------------------------------------------------------------------\n",
      "\t|      default     |   14  |   0   |   0   |   0   ||   14  |   0   |\n",
      "\t---------------------------------------------------------------------\n",
      ":: retrieving :: org.apache.spark#spark-submit-parent-255f47db-8661-43e7-8c4b-210f2da8431f\n",
      "\tconfs: [default]\n",
      "\t0 artifacts copied, 14 already retrieved (0kB/8ms)\n",
      "24/11/26 09:57:45 WARN NativeCodeLoader: Unable to load native-hadoop library for your platform... using builtin-java classes where applicable\n",
      "Using Spark's default log4j profile: org/apache/spark/log4j-defaults.properties\n",
      "Setting default log level to \"WARN\".\n",
      "To adjust logging level use sc.setLogLevel(newLevel). For SparkR, use setLogLevel(newLevel).\n",
      "24/11/26 09:57:46 WARN Utils: Service 'SparkUI' could not bind on port 4040. Attempting port 4041.\n"
     ]
    }
   ],
   "source": [
    "#Spark Session creation configured to interact with Kfka and MongoDB\n",
    "spark = SparkSession.builder.appName(\"pyspark-notebook\").\\\n",
    "config(\"spark.jars.packages\",\"org.apache.spark:spark-sql-kafka-0-10_2.12:3.0.0,org.apache.spark:spark-avro_2.12:3.0.0,org.mongodb.spark:mongo-spark-connector_2.12:3.0.0\").\\\n",
    "config(\"spark.mongodb.input.uri\",\"mongodb://customdockerfile-mongo-1:27017/twitter_data.worldcup\").\\\n",
    "config(\"spark.mongodb.output.uri\",\"mongodb://customdockerfile-mongo-1:27017/twitter_data.worldcup\").\\\n",
    "getOrCreate()"
   ]
  },
  {
   "cell_type": "code",
   "execution_count": 3,
   "id": "1fc89704",
   "metadata": {
    "id": "5d839226"
   },
   "outputs": [],
   "source": [
    "#Read schema file and create schema of string type\n",
    "json_schema = ''\n",
    "with open(\"schema/out/tweet_schema_worldcup.json\") as f:\n",
    "    new_schema = StructType.fromJson(json.load(f))\n",
    "    json_schema = new_schema.simpleString()"
   ]
  },
  {
   "cell_type": "code",
   "execution_count": 4,
   "id": "09a9bbd1",
   "metadata": {
    "id": "a1728c8d"
   },
   "outputs": [],
   "source": [
    "#Read data from Kafka topic\n",
    "json_tweets = spark\\\n",
    "  .readStream\\\n",
    "  .format(\"kafka\")\\\n",
    "  .option(\"kafka.bootstrap.servers\", \"192.168.56.1:9092\")\\\n",
    "  .option(\"subscribe\", \"twitter_demo\")\\\n",
    "  .option(\"startingOffsets\", \"earliest\")\\\n",
    "  .option(\"failOnDataLoss\", \"false\") \\\n",
    "  .load()\\\n",
    "  .selectExpr(\"CAST(key AS STRING)\", \"CAST(value AS STRING)\")"
   ]
  },
  {
   "cell_type": "code",
   "execution_count": 5,
   "id": "16ef54f1",
   "metadata": {},
   "outputs": [
    {
     "name": "stdout",
     "output_type": "stream",
     "text": [
      "root\n",
      " |-- key: string (nullable = true)\n",
      " |-- value: string (nullable = true)\n",
      "\n"
     ]
    }
   ],
   "source": [
    "json_tweets.printSchema()"
   ]
  },
  {
   "cell_type": "code",
   "execution_count": 6,
   "id": "13255183",
   "metadata": {},
   "outputs": [
    {
     "name": "stdout",
     "output_type": "stream",
     "text": [
      "struct<binding_values:string,bookmark_count:bigint,community_note:string,conversation_id:string,creation_date:string,expanded_url:string,extended_entities:struct<media:array<struct<additional_media_info:struct<description:string,embeddable:boolean,monetizable:boolean,source_user:struct<user_results:struct<result:struct<__typename:string,has_graduated_access:boolean,id:string,is_blue_verified:boolean,legacy:struct<can_dm:boolean,can_media_tag:boolean,created_at:string,default_profile:boolean,default_profile_image:boolean,description:string,entities:struct<description:struct<urls:array<string>>,url:struct<urls:array<struct<display_url:string,expanded_url:string,indices:array<bigint>,url:string>>>>,fast_followers_count:bigint,favourites_count:bigint,followers_count:bigint,friends_count:bigint,has_custom_timelines:boolean,is_translator:boolean,listed_count:bigint,location:string,media_count:bigint,name:string,normal_followers_count:bigint,pinned_tweet_ids_str:array<string>,possibly_sensitive:boolean,profile_banner_url:string,profile_image_url_https:string,profile_interstitial_type:string,screen_name:string,statuses_count:bigint,translator_type:string,url:string,verified:boolean,want_retweets:boolean,withheld_in_countries:array<string>>,professional:struct<category:array<struct<icon_name:string,id:bigint,name:string>>,professional_type:string,rest_id:string>,profile_image_shape:string,rest_id:string>>>,title:string>,display_url:string,expanded_url:string,ext_media_availability:struct<status:string>,features:struct<all:struct<tags:array<struct<name:string,screen_name:string,type:string,user_id:string>>>,large:struct<faces:array<struct<h:bigint,w:bigint,x:bigint,y:bigint>>>,medium:struct<faces:array<struct<h:bigint,w:bigint,x:bigint,y:bigint>>>,orig:struct<faces:array<struct<h:bigint,w:bigint,x:bigint,y:bigint>>>,small:struct<faces:array<struct<h:bigint,w:bigint,x:bigint,y:bigint>>>>,id_str:string,indices:array<bigint>,media_key:string,media_url_https:string,original_info:struct<focus_rects:array<struct<h:bigint,w:bigint,x:bigint,y:bigint>>,height:bigint,width:bigint>,sizes:struct<large:struct<h:bigint,resize:string,w:bigint>,medium:struct<h:bigint,resize:string,w:bigint>,small:struct<h:bigint,resize:string,w:bigint>,thumb:struct<h:bigint,resize:string,w:bigint>>,source_status_id_str:string,source_user_id_str:string,type:string,url:string,video_info:struct<aspect_ratio:array<bigint>,duration_millis:bigint,variants:array<struct<bitrate:bigint,content_type:string,url:string>>>>>>,favorite_count:bigint,in_reply_to_status_id:string,language:string,media_url:array<string>,quote_count:bigint,quoted_status:string,quoted_status_id:string,reply_count:bigint,retweet:boolean,retweet_count:bigint,retweet_status:string,retweet_tweet_id:string,source:string,text:string,timestamp:bigint,tweet_id:string,user:struct<bot:boolean,category:string,creation_date:string,default_profile:boolean,default_profile_image:boolean,description:string,external_url:string,favourites_count:bigint,follower_count:bigint,following_count:bigint,has_nft_avatar:boolean,is_blue_verified:boolean,is_private:string,is_verified:boolean,listed_count:bigint,location:string,name:string,number_of_tweets:bigint,profile_banner_url:string,profile_pic_url:string,timestamp:bigint,user_id:string,username:string,verified_type:string>,video_url:array<struct<bitrate:bigint,content_type:string,url:string>>,video_view_count:string,views:bigint>\n"
     ]
    }
   ],
   "source": [
    "print(json_schema)"
   ]
  },
  {
   "cell_type": "code",
   "execution_count": 7,
   "id": "a1231c05",
   "metadata": {
    "id": "9a7891ca"
   },
   "outputs": [],
   "source": [
    "#Refine raw data red from Kafka topic\n",
    "#refined_tweets = json_tweets\\\n",
    "#        .select(from_json(\"value\", json_schema)\\\n",
    "#        .alias(\"data\"))\\\n",
    "#        .where(\"data.lang='en'and data.created_at is not null and data.text is not null\")\\\n",
    "#        .select(\"data.text\",\n",
    "#                from_unixtime(col(\"data.timestamp_ms\")/1000,'yyyy-MM-dd HH:mm:ss').alias(\"timestamp_ms\")) #Translate milliseconds to UTC timestamp\n",
    "#refined_tweets = refined_tweets.withColumn('text', regexp_replace('text', r'http\\S+', ''))\n",
    "#refined_tweets = refined_tweets.withColumn('text', regexp_replace('text', '@\\w+', ''))\n",
    "#refined_tweets = refined_tweets.withColumn('text', regexp_replace('text', '#', ''))\n",
    "#refined_tweets = refined_tweets.withColumn('text', regexp_replace('text', 'RT', ''))\n",
    "#refined_tweets = refined_tweets.withColumn('text', regexp_replace('text', ':', ''))"
   ]
  },
  {
   "cell_type": "code",
   "execution_count": 7,
   "id": "c5995136",
   "metadata": {},
   "outputs": [
    {
     "name": "stderr",
     "output_type": "stream",
     "text": [
      "24/11/26 09:58:00 WARN package: Truncated the string representation of a plan since it was too large. This behavior can be adjusted by setting 'spark.sql.debug.maxToStringFields'.\n"
     ]
    }
   ],
   "source": [
    "#Refine raw data red from Kafka topic\n",
    "refined_tweets = json_tweets\\\n",
    "        .select(from_json(\"value\", json_schema)\\\n",
    "        .alias(\"data\"))\\\n",
    "        .where(\"data.language='en'and data.creation_date is not null and data.text is not null\")\\\n",
    "        .select(\"data.text\",\n",
    "                from_unixtime(col(\"data.timestamp\")/1000,'yyyy-MM-dd HH:mm:ss').alias(\"timestamp\")) #Translate milliseconds to UTC timestamp\n",
    "refined_tweets = refined_tweets.withColumn('text', regexp_replace('text', r'http\\S+', ''))\n",
    "refined_tweets = refined_tweets.withColumn('text', regexp_replace('text', '@\\w+', ''))\n",
    "refined_tweets = refined_tweets.withColumn('text', regexp_replace('text', '#', ''))\n",
    "refined_tweets = refined_tweets.withColumn('text', regexp_replace('text', 'RT', ''))\n",
    "refined_tweets = refined_tweets.withColumn('text', regexp_replace('text', ':', ''))"
   ]
  },
  {
   "cell_type": "code",
   "execution_count": 8,
   "id": "0c04781c",
   "metadata": {
    "id": "e8d5d1e0"
   },
   "outputs": [
    {
     "name": "stderr",
     "output_type": "stream",
     "text": [
      "                                                                                \r"
     ]
    }
   ],
   "source": [
    "dir = \"sentiment/\"\n",
    "model = PipelineModel.load(dir)"
   ]
  },
  {
   "cell_type": "code",
   "execution_count": 9,
   "id": "4bba1bfe",
   "metadata": {
    "id": "25b6824c"
   },
   "outputs": [],
   "source": [
    "def process_row(df, epoch_id):\n",
    "    \"\"\"Applies model to the df and writes data to MongoDB\n",
    "\n",
    "    Parameters\n",
    "    ----------\n",
    "    df : DataFrame\n",
    "        Streaming Dataframe\n",
    "    epoch_id : int\n",
    "        Unique id for each micro batch/epoch\n",
    "    \"\"\"\n",
    "    predictions = model.transform(df)\n",
    "    #predictions.show()\n",
    "    predictions.select(\"timestamp\",\"text\",\"prediction\").write.format(\"mongo\").mode(\"append\").save()"
   ]
  },
  {
   "cell_type": "code",
   "execution_count": null,
   "id": "21c017c5",
   "metadata": {
    "id": "54813d4b",
    "outputId": "1fbb7509-f482-4a0c-8988-f3060fa1beee"
   },
   "outputs": [],
   "source": [
    "#Writes streaming dataframe to ForeachBatch console which ingests data to MongoDB\n",
    "refined_tweets \\\n",
    "    .writeStream \\\n",
    "    .option(\"checkpointLocation\", \"checkpoint/data\") \\\n",
    "    .foreachBatch(process_row).start().awaitTermination()"
   ]
  },
  {
   "cell_type": "code",
   "execution_count": null,
   "id": "dbb33bb2",
   "metadata": {},
   "outputs": [],
   "source": []
  }
 ],
 "metadata": {
  "colab": {
   "name": "streamlistener.ipynb",
   "provenance": []
  },
  "kernelspec": {
   "display_name": "Python 3 (ipykernel)",
   "language": "python",
   "name": "python3"
  },
  "language_info": {
   "codemirror_mode": {
    "name": "ipython",
    "version": 3
   },
   "file_extension": ".py",
   "mimetype": "text/x-python",
   "name": "python",
   "nbconvert_exporter": "python",
   "pygments_lexer": "ipython3",
   "version": "3.7.3"
  }
 },
 "nbformat": 4,
 "nbformat_minor": 5
}
